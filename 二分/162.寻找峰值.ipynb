{
 "cells": [
  {
   "cell_type": "markdown",
   "metadata": {},
   "source": [
    "核心思路：当mid大于mid+1时,说明mid+1一定不是峰值（该题目只要求找到一个峰值即可），因此可以令right=mid,继续在mid左侧寻找峰值。当mid小于mid+1时，说明mid一定不是峰值，因此可以令left=mid+1,继续在mid右侧寻找峰值。当left=right时，说明找到了峰值"
   ]
  },
  {
   "cell_type": "code",
   "execution_count": 1,
   "metadata": {},
   "outputs": [],
   "source": [
    "from typing import List\n",
    "\n",
    "\n",
    "class Solution:\n",
    "    def findPeakElement(self, nums: List[int]) -> int:\n",
    "        l, r = 0, len(nums) - 1\n",
    "        while l < r:\n",
    "            mid = l + (r - l) // 2\n",
    "            if nums[mid] > nums[mid + 1]:\n",
    "                r = mid\n",
    "            else:\n",
    "                l = mid + 1\n",
    "        return left"
   ]
  }
 ],
 "metadata": {
  "kernelspec": {
   "display_name": "Python 3",
   "language": "python",
   "name": "python3"
  },
  "language_info": {
   "codemirror_mode": {
    "name": "ipython",
    "version": 3
   },
   "file_extension": ".py",
   "mimetype": "text/x-python",
   "name": "python",
   "nbconvert_exporter": "python",
   "pygments_lexer": "ipython3",
   "version": "3.9.6"
  }
 },
 "nbformat": 4,
 "nbformat_minor": 2
}
