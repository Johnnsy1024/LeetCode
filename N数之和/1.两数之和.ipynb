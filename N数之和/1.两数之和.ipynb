{
 "cells": [
  {
   "cell_type": "markdown",
   "metadata": {},
   "source": [
    "两数之和的核心在于, 用空间换时间, 用hashmap存储已经遍历过的元素, 从而在O(1)的时间内判断target-i是否在hashmap中, 如果在, 则返回hashmap[target-i]和idx, 否则将i和idx存入hashmap中. 从而在O(n)的时间内完成遍历. 该方法的时间复杂度为O(n), 空间复杂度为O(n)"
   ]
  },
  {
   "cell_type": "code",
   "execution_count": 1,
   "metadata": {},
   "outputs": [],
   "source": [
    "from typing import List\n",
    "\n",
    "\n",
    "class Solution:\n",
    "    def twoSum(self, nums: List[int], target: int):\n",
    "        hashmap = {}\n",
    "        for idx, i in enumerate(nums):\n",
    "            if target - i in hashmap:\n",
    "                return [hashmap[target - i], idx]\n",
    "            else:\n",
    "                hashmap[i] = idx"
   ]
  },
  {
   "cell_type": "markdown",
   "metadata": {},
   "source": [
    "当然,两数之和也可以用**双指针**,但是双指针只适用于有序数组,无序数组需要先排序,且需要记录每个数对应的下标(用元组)"
   ]
  },
  {
   "cell_type": "code",
   "execution_count": null,
   "metadata": {},
   "outputs": [],
   "source": [
    "class Solution:\n",
    "    def twoSum(self, nums: List[int], target: int):\n",
    "        nums = sorted([(i, idx) for idx, i in enumerate(nums)])\n",
    "        l, r = 0, len(nums) - 1\n",
    "        while l < r:\n",
    "            if nums[l][0] + nums[r][0] == target:\n",
    "                return [nums[l][1], nums[r][1]]\n",
    "            elif nums[l][0] + nums[r][0] > target:\n",
    "                r -= 1\n",
    "            else:\n",
    "                l += 1"
   ]
  }
 ],
 "metadata": {
  "kernelspec": {
   "display_name": "Python 3",
   "language": "python",
   "name": "python3"
  },
  "language_info": {
   "codemirror_mode": {
    "name": "ipython",
    "version": 3
   },
   "file_extension": ".py",
   "mimetype": "text/x-python",
   "name": "python",
   "nbconvert_exporter": "python",
   "pygments_lexer": "ipython3",
   "version": "3.9.6"
  }
 },
 "nbformat": 4,
 "nbformat_minor": 2
}
