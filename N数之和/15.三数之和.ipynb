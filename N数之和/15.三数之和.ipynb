{
 "cells": [
  {
   "cell_type": "markdown",
   "metadata": {},
   "source": [
    "三数之和的核心为双指针,而双指针必须先把数组变有序,然后遍历i,维护两个指针l和r,为了不重复,每次移动指针时要跳过重复的元素,时间复杂度为O(n^2)"
   ]
  },
  {
   "cell_type": "code",
   "execution_count": null,
   "metadata": {},
   "outputs": [],
   "source": [
    "from typing import List\n",
    "\n",
    "\n",
    "class Solution:\n",
    "    def threeSum(self, nums: List[int]) -> List[List[int]]:\n",
    "        if len(nums) < 3:\n",
    "            return []\n",
    "        nums.sort()\n",
    "        res = []\n",
    "        for i in range(len(nums) - 2): # 由于是三数之和,所以i只要遍历到len(nums) - 3即可\n",
    "            if nums[i] > 0:\n",
    "                return res\n",
    "            if i > 0 and nums[i-1] == nums[i]:\n",
    "                continue\n",
    "            L = i + 1\n",
    "            R = len(nums) - 1\n",
    "            while L < R:\n",
    "                tmp = nums[i] + nums[L] + nums[R]\n",
    "                if tmp == 0:\n",
    "                    res.append([nums[i], nums[L], nums[R]])\n",
    "                    while L < R and nums[L] == nums[L+1]:\n",
    "                        L += 1\n",
    "                    while L < R and nums[R] == nums[R-1]:\n",
    "                        R -= 1\n",
    "                    L += 1\n",
    "                    R -= 1\n",
    "                elif tmp > 0:\n",
    "                    R -= 1\n",
    "                else:\n",
    "                    L += 1\n",
    "        return res"
   ]
  }
 ],
 "metadata": {
  "kernelspec": {
   "display_name": "Python 3",
   "language": "python",
   "name": "python3"
  },
  "language_info": {
   "name": "python",
   "version": "3.9.6"
  }
 },
 "nbformat": 4,
 "nbformat_minor": 2
}
