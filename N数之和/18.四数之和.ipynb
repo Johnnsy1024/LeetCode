{
 "cells": [
  {
   "cell_type": "markdown",
   "metadata": {},
   "source": [
    "四数之和本质上和三数之和一致,只不过双指针外要套两个循环,两个循环都不要忘记去重"
   ]
  },
  {
   "cell_type": "code",
   "execution_count": 1,
   "metadata": {},
   "outputs": [],
   "source": [
    "from typing import List\n",
    "\n",
    "\n",
    "class Solution:\n",
    "    def fourSum(self, nums: List[int], target: int) -> List[List[int]]:\n",
    "        if not nums:\n",
    "            return []\n",
    "        nums.sort()\n",
    "        res = []\n",
    "        for i in range(len(nums) - 3):\n",
    "            if i > 0 and nums[i] == nums[i - 1]:\n",
    "                continue\n",
    "            for j in range(i + 1, len(nums) - 2):\n",
    "                if j > i + 1 and nums[j] == nums[j - 1]:\n",
    "                    continue\n",
    "                l, r = j + 1, len(nums) - 1\n",
    "                while l < r:\n",
    "                    temp = nums[i] + nums[j] + nums[l] + nums[r]\n",
    "                    if temp == target:\n",
    "                        res.append([nums[i], nums[j], nums[l], nums[r]])\n",
    "                        while l < r and nums[l] == nums[l + 1]:\n",
    "                            l += 1\n",
    "                        while l < r and nums[r] == nums[r - 1]:\n",
    "                            r -= 1\n",
    "                        l += 1\n",
    "                        r -= 1\n",
    "                    elif temp > target:\n",
    "                        r -= 1\n",
    "                    else:\n",
    "                        l += 1\n",
    "        return res"
   ]
  },
  {
   "cell_type": "code",
   "execution_count": 11,
   "metadata": {},
   "outputs": [],
   "source": [
    "nums = [1,0,-1,0,-2,2]\n",
    "target = 0"
   ]
  },
  {
   "cell_type": "code",
   "execution_count": 12,
   "metadata": {},
   "outputs": [
    {
     "name": "stdout",
     "output_type": "stream",
     "text": [
      "[[-2, -1, 1, 2], [-2, 0, 0, 2], [-1, 0, 0, 1]]\n"
     ]
    }
   ],
   "source": [
    "print(Solution().fourSum(nums, target))"
   ]
  }
 ],
 "metadata": {
  "kernelspec": {
   "display_name": "Python 3",
   "language": "python",
   "name": "python3"
  },
  "language_info": {
   "codemirror_mode": {
    "name": "ipython",
    "version": 3
   },
   "file_extension": ".py",
   "mimetype": "text/x-python",
   "name": "python",
   "nbconvert_exporter": "python",
   "pygments_lexer": "ipython3",
   "version": "3.9.6"
  }
 },
 "nbformat": 4,
 "nbformat_minor": 2
}
