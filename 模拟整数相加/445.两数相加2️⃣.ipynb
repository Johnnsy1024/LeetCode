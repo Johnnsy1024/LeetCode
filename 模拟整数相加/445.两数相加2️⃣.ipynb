{
 "cells": [
  {
   "cell_type": "markdown",
   "metadata": {},
   "source": [
    "由于链表上的加法模拟,且链表的指向顺序和我们加法的顺序是相反的,所以可以有两种做法：\n",
    "1. 定义翻转链表的函数,将链表从头到尾翻转,然后将两个链表相加,最后再将链表从头到尾翻转回来。\n",
    "2. 利用栈先入后出的结构,将链表压入栈中,再依次弹出进行相加模拟\n",
    "下面先展示第二种方法"
   ]
  },
  {
   "cell_type": "code",
   "execution_count": 6,
   "metadata": {},
   "outputs": [
    {
     "data": {
      "text/plain": [
       "<__main__.ListNode at 0x106aaec50>"
      ]
     },
     "execution_count": 6,
     "metadata": {},
     "output_type": "execute_result"
    }
   ],
   "source": [
    "from typing import Optional\n",
    "\n",
    "\n",
    "class ListNode:\n",
    "    def __init__(self, val=0, next=None):\n",
    "        self.val = val\n",
    "        self.next = next\n",
    "\n",
    "class Solution:\n",
    "    def addTwoNumbers(self, l1: Optional[ListNode], l2: Optional[ListNode]) -> Optional[ListNode]:\n",
    "        stack1, stack2 = [], []\n",
    "        res = []\n",
    "        # 依次将两个链表压入栈中\n",
    "        while l1:\n",
    "            stack1.append(l1.val)\n",
    "            l1 = l1.next\n",
    "        while l2:\n",
    "            stack2.append(l2.val)\n",
    "            l2 = l2.next\n",
    "        carry = 0\n",
    "        while stack1 or stack2 or carry > 0:\n",
    "            if stack1:\n",
    "                temp1 = stack1.pop()\n",
    "            else:\n",
    "                temp1 = 0\n",
    "            if stack2:\n",
    "                temp2 = stack2.pop()\n",
    "            else:\n",
    "                temp2 = 0\n",
    "            cur_sum = temp1 + temp2 + carry\n",
    "            res.append(cur_sum % 10)\n",
    "            carry = cur_sum // 10\n",
    "        head = ListNode()\n",
    "        cur = head\n",
    "        while res:\n",
    "            cur.val = res.pop()\n",
    "            cur.next = ListNode() if res else None\n",
    "            cur = cur.next \n",
    "        return head\n",
    "l1 = ListNode(5)\n",
    "l2 = ListNode(5)\n",
    "Solution().addTwoNumbers(l1, l2)"
   ]
  },
  {
   "cell_type": "code",
   "execution_count": 1,
   "metadata": {},
   "outputs": [],
   "source": [
    "from typing import Optional\n",
    "\n",
    "\n",
    "class ListNode:\n",
    "    def __init__(self, val=0, next=None):\n",
    "        self.val = val\n",
    "        self.next = next\n",
    "\n",
    "class Solution:\n",
    "    def addTwoNumbers(self, l1: Optional[ListNode], l2: Optional[ListNode]) -> Optional[ListNode]:\n",
    "        def revert_list_node(head: Optional[ListNode]):\n",
    "            if not head:\n",
    "                return\n",
    "            cur = head\n",
    "            prev = None\n",
    "            while cur:\n",
    "                temp = cur.next\n",
    "                cur.next = prev\n",
    "                prev = cur\n",
    "                cur = temp\n",
    "            \n",
    "            return prev\n",
    "        carry = 0\n",
    "        l1 = revert_list_node(l1)\n",
    "        l2 = revert_list_node(l2)\n",
    "        head = ListNode()\n",
    "        cur = head\n",
    "        while l1 or l2 or carry > 0:\n",
    "            if l1:\n",
    "                temp1 = l1.val\n",
    "                l1 = l1.next if l1 else None\n",
    "            else:\n",
    "                temp1 = 0\n",
    "            if l2:\n",
    "                temp2 = l2.val\n",
    "                l2 = l2.next if l2 else None\n",
    "            else:\n",
    "                temp2 = 0\n",
    "            cur_sum = temp1 + temp2 + carry\n",
    "            cur.val = cur_sum % 10\n",
    "            carry = cur_sum // 10\n",
    "            if not l1 and not l2 and not carry:\n",
    "                cur.next = None\n",
    "            else:\n",
    "                cur.next = ListNode()\n",
    "            cur = cur.next\n",
    "l1 = ListNode(5)\n",
    "l2 = ListNode(5)\n",
    "Solution().addTwoNumbers(l1, l2)"
   ]
  },
  {
   "cell_type": "markdown",
   "metadata": {},
   "source": [
    "从这个题我们可以总结的是：涉及到逆序计算的时候，优先考虑使用栈来解决。"
   ]
  }
 ],
 "metadata": {
  "kernelspec": {
   "display_name": ".venv",
   "language": "python",
   "name": "python3"
  },
  "language_info": {
   "codemirror_mode": {
    "name": "ipython",
    "version": 3
   },
   "file_extension": ".py",
   "mimetype": "text/x-python",
   "name": "python",
   "nbconvert_exporter": "python",
   "pygments_lexer": "ipython3",
   "version": "3.11.10"
  }
 },
 "nbformat": 4,
 "nbformat_minor": 2
}
