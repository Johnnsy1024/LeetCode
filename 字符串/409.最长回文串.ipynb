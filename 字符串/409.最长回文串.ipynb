{
 "cells": [
  {
   "cell_type": "markdown",
   "metadata": {},
   "source": [
    "死记:构成回文串的充要条件为：每个字符出现的次数为偶数次，最多只能有一个字符出现的次数为奇数次"
   ]
  },
  {
   "cell_type": "code",
   "execution_count": 7,
   "metadata": {},
   "outputs": [],
   "source": [
    "class Solution:\n",
    "    def longestPalindrome(self, s: str) -> int:\n",
    "        \"\"\"构建一个哈希表记录每个字符出现的次数,出现偶数次的字符,其出现几次,就能构建多长的回文字串,出现奇数次的字符,不管这样的奇数次字符有几个,都只能对形成的回文字符串长度做出+1的贡献\n",
    "\n",
    "        Args:\n",
    "            s (str): _description_\n",
    "\n",
    "        Returns:\n",
    "            int: _description_\n",
    "        \"\"\"\n",
    "        hash_table = dict()\n",
    "        for i in s:\n",
    "            if i not in hash_table:\n",
    "                hash_table[i] = 1\n",
    "            else:\n",
    "                hash_table[i] += 1\n",
    "        res = 0\n",
    "        odd = 0 # 记录是否出现奇数次字符\n",
    "        for i in hash_table:\n",
    "            if hash_table[i] % 2 == 0:\n",
    "                res += hash_table[i]\n",
    "            else:\n",
    "                res += hash_table[i] - 1 # 虽然是奇数次,但是可以贡献偶数次的长度\n",
    "                odd = 1 # 出现了奇数次的字符\n",
    "        return res + odd"
   ]
  },
  {
   "cell_type": "code",
   "execution_count": 8,
   "metadata": {},
   "outputs": [
    {
     "data": {
      "text/plain": [
       "7"
      ]
     },
     "execution_count": 8,
     "metadata": {},
     "output_type": "execute_result"
    }
   ],
   "source": [
    "s = \"abccccdd\"\n",
    "Solution().longestPalindrome(s)"
   ]
  },
  {
   "cell_type": "code",
   "execution_count": null,
   "metadata": {},
   "outputs": [],
   "source": []
  }
 ],
 "metadata": {
  "kernelspec": {
   "display_name": "Python 3",
   "language": "python",
   "name": "python3"
  },
  "language_info": {
   "codemirror_mode": {
    "name": "ipython",
    "version": 3
   },
   "file_extension": ".py",
   "mimetype": "text/x-python",
   "name": "python",
   "nbconvert_exporter": "python",
   "pygments_lexer": "ipython3",
   "version": "3.9.6"
  }
 },
 "nbformat": 4,
 "nbformat_minor": 2
}
