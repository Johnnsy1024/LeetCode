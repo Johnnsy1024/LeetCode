{
 "cells": [
  {
   "cell_type": "markdown",
   "metadata": {},
   "source": [
    "这种N数相加的题目,双指针和哈希一定要多多地想"
   ]
  },
  {
   "cell_type": "code",
   "execution_count": null,
   "metadata": {},
   "outputs": [],
   "source": [
    "from typing import List\n",
    "\n",
    "\n",
    "class Solution:\n",
    "    def fourSumCount(self, nums1: List[int], nums2: List[int], nums3: List[int], nums4: List[int]) -> int:\n",
    "        hashmap = {}\n",
    "        cnt = 0\n",
    "        for i in nums1:\n",
    "            for j in nums2:\n",
    "                if i + j in hashmap:\n",
    "                    hashmap[i + j] += 1\n",
    "                else:\n",
    "                    hashmap[i + j] = 1\n",
    "        for k in nums3:\n",
    "            for l in nums4:\n",
    "                if -k - l in hashmap:\n",
    "                    cnt += hashmap[-k - l]\n",
    "        return cnt"
   ]
  }
 ],
 "metadata": {
  "kernelspec": {
   "display_name": "Python 3",
   "language": "python",
   "name": "python3"
  },
  "language_info": {
   "codemirror_mode": {
    "name": "ipython",
    "version": 3
   },
   "file_extension": ".py",
   "mimetype": "text/x-python",
   "name": "python",
   "nbconvert_exporter": "python",
   "pygments_lexer": "ipython3",
   "version": "3.9.6"
  }
 },
 "nbformat": 4,
 "nbformat_minor": 2
}
