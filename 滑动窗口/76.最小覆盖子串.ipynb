{
 "cells": [
  {
   "cell_type": "code",
   "execution_count": 7,
   "metadata": {},
   "outputs": [
    {
     "name": "stdout",
     "output_type": "stream",
     "text": [
      "BANC\n"
     ]
    }
   ],
   "source": [
    "class Solution:\n",
    "    def minWindow(self, s: str, t: str) -> str:\n",
    "        from collections import Counter\n",
    "        \n",
    "        if not t or not s:\n",
    "            return \"\"\n",
    "        \n",
    "        # 统计t中字符的频率\n",
    "        target_count = Counter(t)\n",
    "        required = len(target_count)\n",
    "        \n",
    "        # 左右指针\n",
    "        l, r = 0, 0\n",
    "        # 当前窗口中满足条件的字符数\n",
    "        formed = 0\n",
    "        # 记录窗口内的字符频率\n",
    "        window_count = {}\n",
    "        \n",
    "        # 记录最小窗口的长度和起始位置\n",
    "        min_len = float(\"inf\")\n",
    "        min_window = (0, 0)\n",
    "        \n",
    "        while r < len(s):\n",
    "            # 添加右边字符到窗口\n",
    "            char = s[r]\n",
    "            window_count[char] = window_count.get(char, 0) + 1\n",
    "            \n",
    "            # 如果当前字符的频率等于目标字符的频率，增加formed\n",
    "            if char in target_count and window_count[char] == target_count[char]:\n",
    "                formed += 1\n",
    "            \n",
    "            # 缩小窗口，直到不满足条件\n",
    "            while l <= r and formed == required:\n",
    "                char = s[l]\n",
    "                \n",
    "                # 更新最小窗口\n",
    "                if r - l + 1 < min_len:\n",
    "                    min_len = r - l + 1\n",
    "                    min_window = (l, r)\n",
    "                \n",
    "                # 移除左边字符\n",
    "                window_count[char] -= 1\n",
    "                if char in target_count and window_count[char] < target_count[char]:\n",
    "                    formed -= 1\n",
    "                \n",
    "                l += 1\n",
    "            \n",
    "            # 移动右边指针\n",
    "            r += 1\n",
    "        \n",
    "        start, end = min_window\n",
    "        return s[start:end + 1] if min_len != float(\"inf\") else \"\"\n",
    "s = \"ADOBECODEBANC\"\n",
    "t = \"ABC\"\n",
    "sol = Solution()\n",
    "print(sol.minWindow(s, t))"
   ]
  }
 ],
 "metadata": {
  "kernelspec": {
   "display_name": "Python 3",
   "language": "python",
   "name": "python3"
  },
  "language_info": {
   "codemirror_mode": {
    "name": "ipython",
    "version": 3
   },
   "file_extension": ".py",
   "mimetype": "text/x-python",
   "name": "python",
   "nbconvert_exporter": "python",
   "pygments_lexer": "ipython3",
   "version": "3.9.6"
  }
 },
 "nbformat": 4,
 "nbformat_minor": 2
}
