{
 "cells": [
  {
   "cell_type": "markdown",
   "metadata": {},
   "source": [
    "该题有两种做法：\n",
    "1. 优先队列（堆）\n",
    "2. 单掉队列"
   ]
  },
  {
   "cell_type": "code",
   "execution_count": null,
   "metadata": {},
   "outputs": [
    {
     "name": "stdout",
     "output_type": "stream",
     "text": [
      "3\n"
     ]
    }
   ],
   "source": [
    "import heapq\n",
    "from typing import List\n",
    "\n",
    "class Solution:\n",
    "    def maxSlidingWindow(self, nums: List[int], k: int) -> List[int]:\n",
    "        n = len(nums)\n",
    "        heap = []\n",
    "        for i in range(k):\n",
    "            heapq.heappush(heap, (-nums[i], i))\n",
    "        max_val = -heap[0][0]\n",
    "        for j in range(k, n):\n",
    "            heapq.heappush(heap, (-nums[j], j))\n",
    "            while j - heap[0][1] >= k:\n",
    "                heapq.heappop(heap)\n",
    "            max_val = max(max_val, heap[0][0])\n",
    "        return max_val\n",
    "nums = [1,3,-1,-3,5,3,6,7]\n",
    "k = 3\n",
    "print(Solution().maxSlidingWindow(nums, k))"
   ]
  },
  {
   "cell_type": "code",
   "execution_count": null,
   "metadata": {},
   "outputs": [],
   "source": [
    "from collections import deque\n",
    "from typing import List\n",
    "\n",
    "class Solution:\n",
    "    def maxSlidingWindow(self, nums: List[int], k: int) -> List[int]:\n",
    "        n = len(nums)\n",
    "        q = deque()\n",
    "        \n",
    "        for i in range(k):\n",
    "            while q and nums[i] >= nums[q[-1]]:\n",
    "                # 新来的年轻人不断淘汰老一辈，直到遇到比自己强的\n",
    "                q.pop()\n",
    "            q.append(i) # 即使遇到比自己强的,也要先候着,可能把老登熬走\n",
    "        res = [nums[q[0]]]\n",
    "        for i in range(k, n):\n",
    "            while q and nums[i] >= nums[q[-1]]:\n",
    "                q.pop()\n",
    "            q.append(i)\n",
    "            while q[0] <= i - k: # 当最牛逼的老登老掉牙了,就该淘汰了\n",
    "                q.popleft()\n",
    "            res.append(nums[q[0]])\n",
    "        return res\n"
   ]
  }
 ],
 "metadata": {
  "kernelspec": {
   "display_name": "Python 3",
   "language": "python",
   "name": "python3"
  },
  "language_info": {
   "codemirror_mode": {
    "name": "ipython",
    "version": 3
   },
   "file_extension": ".py",
   "mimetype": "text/x-python",
   "name": "python",
   "nbconvert_exporter": "python",
   "pygments_lexer": "ipython3",
   "version": "3.9.6"
  }
 },
 "nbformat": 4,
 "nbformat_minor": 2
}
